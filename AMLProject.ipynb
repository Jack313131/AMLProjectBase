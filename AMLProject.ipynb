{
  "nbformat": 4,
  "nbformat_minor": 0,
  "metadata": {
    "colab": {
      "provenance": [],
      "mount_file_id": "19U9d6dubOP_95YWxjjQbRluT8bvO825V",
      "authorship_tag": "ABX9TyPZW4NCbAiCfOVGiAMIzr31",
      "include_colab_link": true
    },
    "kernelspec": {
      "name": "python3",
      "display_name": "Python 3"
    },
    "language_info": {
      "name": "python"
    }
  },
  "cells": [
    {
      "cell_type": "markdown",
      "metadata": {
        "id": "view-in-github",
        "colab_type": "text"
      },
      "source": [
        "<a href=\"https://colab.research.google.com/github/Jack313131/AMLProjectBase/blob/main/AMLProject.ipynb\" target=\"_parent\"><img src=\"https://colab.research.google.com/assets/colab-badge.svg\" alt=\"Open In Colab\"/></a>"
      ]
    },
    {
      "cell_type": "code",
      "source": [
        "import pkg_resources\n",
        "import subprocess\n",
        "import os\n",
        "import zipfile\n",
        "import json\n",
        "import importlib\n",
        "\n",
        "\n",
        "def save_credentials_cityscapes_dataset():\n",
        "    filepath = \"/root/.local/share/cityscapesscripts/credentials.json\"\n",
        "    credentials = {\n",
        "        'username': \"s285891@studenti.polito.it\",\n",
        "        'password': \"AMLProject.2324\"\n",
        "    }\n",
        "\n",
        "    os.makedirs(os.path.dirname(filepath), exist_ok=True)\n",
        "\n",
        "    with open(filepath, 'w') as file:\n",
        "        json.dump(credentials, file)\n",
        "\n",
        "\n",
        "def is_installed(package):\n",
        "    try:\n",
        "        pkg_resources.get_distribution(package['name'])\n",
        "        return True\n",
        "    except pkg_resources.DistributionNotFound:\n",
        "        return False\n",
        "\n",
        "\n",
        "def install_package(package):\n",
        "    print(f\"Installing the package {package['name']}\")\n",
        "    subprocess.check_call(package['command'], shell=True)\n",
        "\n",
        "\n",
        "# Lista dei pacchetti e comandi di installazione\n",
        "packages = [\n",
        "    {\"name\": \"baseProject - AnomalySegmentation_CourseProjectBaseCode\",\n",
        "     \"command\": \"git clone https://github.com/shyam671/AnomalySegmentation_CourseProjectBaseCode.git\", \"git\": True,\n",
        "     \"shell\": False},\n",
        "    {\"name\": \"csDownload\", \"command\": \"python -m pip install cityscapesscripts\", \"git\": False, \"shell\": True},\n",
        "    {\"name\": \"torch\", \"command\": \"pip3 install torch torchvision torchaudio\", \"git\": False, \"shell\": True},\n",
        "    {\"name\": \"tqdm\", \"command\": \"pip3 install tqdm\", \"git\": False, \"shell\": True}\n",
        "]\n",
        "\n",
        "zipFile = [\"gtFine_trainvaltest.zip\", \"leftImg8bit_trainvaltest.zip\", \"gtCoarse.zip\"]\n",
        "\n",
        "\n",
        "def data_loader(zip_file_path, extracted_folder_path):\n",
        "    with zipfile.ZipFile(zip_file_path, 'r') as zip_ref:\n",
        "        zip_ref.extractall(extracted_folder_path)\n",
        "\n",
        "\n",
        "def run_command(command):\n",
        "    print(f\"Running the command :  {command} ...\")\n",
        "    try:\n",
        "        output = subprocess.check_output(command, shell=True, stderr=subprocess.STDOUT)\n",
        "        print(\"Command execute correctly ...\")\n",
        "        return True, output.decode('utf-8')\n",
        "    except subprocess.CalledProcessError as e:\n",
        "        print(f\"Command NOT executed correctly. Error : {e.output.decode('utf-8')}\")\n",
        "        return False, e.output.decode('utf-8')\n",
        "\n",
        "\n",
        "def git_clone(package):\n",
        "    print(f\"Cloning the repository {package['name']}...\")\n",
        "    try:\n",
        "        output = subprocess.check_output(package['command'], shell=True, stderr=subprocess.STDOUT)\n",
        "        print(\"Repository cloned correctly ...\")\n",
        "    except subprocess.CalledProcessError as e:\n",
        "        print(f\"Repository cloned correctly .... Error : {e.output.decode('utf-8')}\")\n",
        "\n",
        "\n",
        "if __name__ == '__main__':\n",
        "    print(\"Start preparing the environment ...\")\n",
        "    rootPath = 'content/drive/MyDrive'\n",
        "    os.chdir(f\"/{rootPath}\")\n",
        "    os.environ['CITYSCAPES_DATASET'] = f\"/{rootPath}/AnomalySegmentation_CourseProjectBaseCode/\"\n",
        "    extracted_folder_path = f'/{rootPath}/AnomalySegmentation_CourseProjectBaseCode/'\n",
        "    save_credentials_cityscapes_dataset()\n",
        "    for package in packages:\n",
        "        if package['git'] == True and os.path.isdir(f\"/{rootPath}/AnomalySegmentation_CourseProjectBaseCode\") == False:\n",
        "            git_clone(package)\n",
        "        elif package['git'] == True:\n",
        "            print(f\"Repository {package['name']} already cloned\")\n",
        "        if package['shell'] == True and not is_installed(package):\n",
        "            install_package(package)\n",
        "        elif package['shell'] == True:\n",
        "            print(f\"Package {package['name']} is already installed\")\n",
        "\n",
        "    for zip in zipFile:\n",
        "        run_command(f\"csDownload {zip}\")\n",
        "        data_loader(f\"/{rootPath}/{zip}\", extracted_folder_path=extracted_folder_path)\n",
        "\n",
        "    createTrainIdLabelImgs_module = importlib.import_module(\"cityscapesscripts.preparation.createTrainIdLabelImgs\")\n",
        "    createTrainIdLabelImgs = createTrainIdLabelImgs_module.main\n",
        "    createTrainIdLabelImgs()\n",
        "\n",
        "    print(\"Environment ready  ...\")\n",
        "\n"
      ],
      "metadata": {
        "colab": {
          "base_uri": "https://localhost:8080/"
        },
        "id": "jg596QkUciaM",
        "outputId": "54d7e030-9a70-4177-99fa-64ac3798869d"
      },
      "execution_count": null,
      "outputs": [
        {
          "output_type": "stream",
          "name": "stdout",
          "text": [
            "Start preparing the environment ...\n",
            "Repository baseProject - AnomalySegmentation_CourseProjectBaseCode already cloned\n",
            "Package baseProject - AnomalySegmentation_CourseProjectBaseCode is already installed\n",
            "Installing the package csDownload\n",
            "Package torch is already installed\n",
            "Package tqdm is already installed\n",
            "Running the command :  csDownload gtFine_trainvaltest.zip ...\n",
            "Command execute correctly ...\n",
            "Running the command :  csDownload leftImg8bit_trainvaltest.zip ...\n",
            "Command execute correctly ...\n",
            "Running the command :  csDownload gtCoarse.zip ...\n",
            "Command execute correctly ...\n",
            "Processing 28473 annotation files\n",
            "Progress: 80.16015172268465 % "
          ]
        }
      ]
    }
  ]
}